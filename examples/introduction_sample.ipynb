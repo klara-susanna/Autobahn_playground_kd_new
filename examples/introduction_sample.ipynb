{
 "cells": [
  {
   "cell_type": "markdown",
   "metadata": {},
   "source": [
    "# Import Required Libraries\n",
    "Import the necessary libraries, such as requests for making HTTP requests and json for handling JSON data."
   ]
  },
  {
   "cell_type": "code",
   "execution_count": 1,
   "metadata": {},
   "outputs": [],
   "source": [
    "# Import Required Libraries\n",
    "import pandas as pd\n",
    "from autobahn.road import TrafficWarning, get_warnings, calculate_traffic_length, map_plot"
   ]
  },
  {
   "cell_type": "markdown",
   "metadata": {},
   "source": [
    "# Goal:\n",
    "\n",
    "ich fahre von xxx nach Kassel und halte es maximal 1 h ohne WC aus. Schaffe ich das bei der aktuellen Verkehrslage?"
   ]
  },
  {
   "cell_type": "markdown",
   "metadata": {},
   "source": [
    "# Fetch some information about Germany\n",
    "\n",
    "- https://bund.dev/apis\n",
    " - pip install deutschland\n",
    "- Dashboard Deutschland: https://dashboard.deutschland.api.bund.dev/\n",
    "- Autbobahnen: https://autobahn.api.bund.dev/\n",
    "- Deutschlandatlas: https://github.com/bundesAPI/deutschlandatlas-api\n",
    "\n"
   ]
  },
  {
   "cell_type": "code",
   "execution_count": 36,
   "metadata": {},
   "outputs": [],
   "source": [
    "warnings = {f'A{i}': get_warnings(f'A{i}') for i in range(0, 15)}"
   ]
  },
  {
   "cell_type": "code",
   "execution_count": 37,
   "metadata": {},
   "outputs": [],
   "source": [
    "traffic_warning = {k: [TrafficWarning(v[ii]) for ii in range(len(v))] \n",
    "                   for k, v in warnings.items()}"
   ]
  },
  {
   "cell_type": "code",
   "execution_count": 38,
   "metadata": {},
   "outputs": [],
   "source": [
    "length_of_traffic = {k: \n",
    "    [calculate_traffic_length(v[ii].geo_df) for ii in range(len(v))]\n",
    "    for k, v in traffic_warning.items()}"
   ]
  },
  {
   "cell_type": "code",
   "execution_count": 39,
   "metadata": {},
   "outputs": [],
   "source": [
    "length_of_traffic_ser = {k: pd.Series(v) for k, v in length_of_traffic.items()} "
   ]
  },
  {
   "cell_type": "code",
   "execution_count": 40,
   "metadata": {},
   "outputs": [
    {
     "data": {
      "text/plain": [
       "A0             0\n",
       "A1     68.003757\n",
       "A2     44.227204\n",
       "A3     88.087786\n",
       "A4     63.594497\n",
       "A5     37.011761\n",
       "A6     11.971162\n",
       "A7     28.930567\n",
       "A8     48.889087\n",
       "A9     21.423056\n",
       "A10    18.624587\n",
       "A11            0\n",
       "A12            0\n",
       "A13            0\n",
       "A14     3.092063\n",
       "dtype: object"
      ]
     },
     "execution_count": 40,
     "metadata": {},
     "output_type": "execute_result"
    }
   ],
   "source": [
    "pd.concat(length_of_traffic_ser, axis=1).sum()"
   ]
  },
  {
   "cell_type": "code",
   "execution_count": 10,
   "metadata": {},
   "outputs": [
    {
     "name": "stdout",
     "output_type": "stream",
     "text": [
      "length_of_traffic: 2.28 km\n"
     ]
    }
   ],
   "source": [
    "print(f\"length_of_traffic: {length_of_traffic:.2f} km\")"
   ]
  }
 ],
 "metadata": {
  "kernelspec": {
   "display_name": "Python 3",
   "language": "python",
   "name": "python3"
  },
  "language_info": {
   "codemirror_mode": {
    "name": "ipython",
    "version": 3
   },
   "file_extension": ".py",
   "mimetype": "text/x-python",
   "name": "python",
   "nbconvert_exporter": "python",
   "pygments_lexer": "ipython3",
   "version": "3.10.15"
  }
 },
 "nbformat": 4,
 "nbformat_minor": 2
}
