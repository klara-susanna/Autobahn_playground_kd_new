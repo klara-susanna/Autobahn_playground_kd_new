{
 "cells": [
  {
   "cell_type": "code",
   "execution_count": 69,
   "id": "get-warnings",
   "metadata": {},
   "outputs": [],
   "source": [
    "import requests\n",
    "import pandas as pd\n",
    "import numpy as np\n",
    "import folium\n",
    "from autobahn.autobahn import get_warnings\n",
    "from autobahn.car_model import Car\n",
    "from autobahn.autobahn import map_plot\n",
    "from autobahn.autobahn import TrafficWarning\n",
    "from autobahn.autobahn import calculate_traffic_length\n"
   ]
  },
  {
   "cell_type": "code",
   "execution_count": 70,
   "id": "c9af1277",
   "metadata": {},
   "outputs": [],
   "source": [
    "url_bab = \"https://verkehr.autobahn.de/o/autobahn\"\n",
    "\n",
    "warnings_a7 = get_warnings('A7')"
   ]
  },
  {
   "cell_type": "code",
   "execution_count": 71,
   "id": "get-route",
   "metadata": {},
   "outputs": [],
   "source": [
    "osrm_url = \"http://router.project-osrm.org/route/v1/driving/\"\n",
    "start = \"9.346188,54.772891\"  # Flensburg lng, lat\n",
    "# end = \"9.479746,51.312711\"  # Kassel\n",
    "end = \"10.659156,47.568033\"# Fuessen\n",
    "route_url = f\"{osrm_url}{start};{end}?overview=full&geometries=geojson\"\n",
    "route_response = requests.get(route_url)\n",
    "route_data = route_response.json()\n",
    "route_coords = route_data['routes'][0]['geometry']['coordinates']\n",
    "route_df = pd.DataFrame(route_coords, columns=['long', 'lat'])"
   ]
  },
  {
   "cell_type": "markdown",
   "id": "bca8e25a",
   "metadata": {},
   "source": [
    "### OSM Data"
   ]
  },
  {
   "cell_type": "code",
   "execution_count": null,
   "id": "619eadfa",
   "metadata": {},
   "outputs": [],
   "source": [
    "print(f\"distance: {route_data['routes'][0]['distance'] / 1000:.2f} km\")\n",
    "print(f\"duration: {route_data['routes'][0]['duration'] / 3600:.2f} h\")"
   ]
  },
  {
   "cell_type": "code",
   "execution_count": null,
   "id": "driving-model",
   "metadata": {},
   "outputs": [],
   "source": [
    "car = Car(start_location=(54.793743, 9.446996))  # Flensburg\n",
    "for coord in route_coords:\n",
    "    car.drive_to((coord[1], coord[0]))\n",
    "\n",
    "car.distance_traveled"
   ]
  },
  {
   "cell_type": "code",
   "execution_count": null,
   "id": "a28f3ccb",
   "metadata": {},
   "outputs": [],
   "source": [
    "route_df = route_df.assign(speed=120)\n",
    "map_plot([route_df], on=\"speed\")"
   ]
  },
  {
   "cell_type": "markdown",
   "id": "3a472192",
   "metadata": {},
   "source": [
    "### Assign traffic information"
   ]
  },
  {
   "cell_type": "code",
   "execution_count": null,
   "id": "18c815d9",
   "metadata": {},
   "outputs": [],
   "source": [
    "[print(data[\"title\"]) for data in warnings_a7]"
   ]
  },
  {
   "cell_type": "code",
   "execution_count": null,
   "id": "d5a98493",
   "metadata": {},
   "outputs": [],
   "source": [
    "route_df.columns"
   ]
  },
  {
   "cell_type": "code",
   "execution_count": 77,
   "id": "218fd6d7",
   "metadata": {},
   "outputs": [],
   "source": [
    "from haversine import haversine, haversine_vector\n",
    "\n",
    "threshold = .1 # km"
   ]
  },
  {
   "cell_type": "code",
   "execution_count": null,
   "id": "f3f4d1c1",
   "metadata": {},
   "outputs": [],
   "source": [
    "for warning in warnings_a7:\n",
    "    traffic_warning = TrafficWarning(warning)\n",
    "\n",
    "    gps_coords_warnings = [(row1['lat'], row1['long']) for _, row1 in traffic_warning.geo_df.iterrows()]\n",
    "    gps_coords_route = [(row2['lat'], row2['long']) for _, row2 in route_df.iterrows()]\n",
    "    distance_matrix = haversine_vector(gps_coords_warnings, gps_coords_route, comb=True)\n",
    "    if distance_matrix.min() < threshold:\n",
    "        print(f\"{traffic_warning.title} with delay: {traffic_warning.delayTimeValue}, speed: {traffic_warning.averageSpeed}, distance: {calculate_traffic_length(traffic_warning.geo_df)}\")\n",
    "        ind_route_traffic = route_df[\"speed\"].where(distance_matrix.min(axis=1) < threshold).dropna().index\n",
    "        route_df.loc[ind_route_traffic, \"speed\"] = float(traffic_warning.averageSpeed) if traffic_warning.averageSpeed else 80\n",
    "    # break\n",
    "    # print(f\"Warning: {traffic_warning.title} is part of route: {is_part_of_route}\")\n",
    "\n"
   ]
  },
  {
   "cell_type": "code",
   "execution_count": 83,
   "id": "b24b9fcf",
   "metadata": {},
   "outputs": [],
   "source": [
    "import numpy as np\n",
    "\n",
    "# Generate random fluctuation values\n",
    "fluctuation = np.random.normal(0, 2, len(route_df))\n",
    "\n",
    "# Add fluctuation to speed\n",
    "route_df['speed + fluc'] = route_df['speed'].astype(float) + fluctuation"
   ]
  },
  {
   "cell_type": "code",
   "execution_count": null,
   "id": "4623e3a0",
   "metadata": {},
   "outputs": [],
   "source": [
    "route_df[\"speed + fluc\"].plot()"
   ]
  },
  {
   "cell_type": "code",
   "execution_count": null,
   "id": "7df0385f",
   "metadata": {},
   "outputs": [],
   "source": [
    "map_plot([route_df], on=\"speed\")"
   ]
  },
  {
   "cell_type": "code",
   "execution_count": null,
   "id": "0cdb09ea",
   "metadata": {},
   "outputs": [],
   "source": []
  }
 ],
 "metadata": {
  "kernelspec": {
   "display_name": "Python 3",
   "language": "python",
   "name": "python3"
  },
  "language_info": {
   "codemirror_mode": {
    "name": "ipython",
    "version": 3
   },
   "file_extension": ".py",
   "mimetype": "text/x-python",
   "name": "python",
   "nbconvert_exporter": "python",
   "pygments_lexer": "ipython3",
   "version": "3.10.15"
  }
 },
 "nbformat": 4,
 "nbformat_minor": 5
}
